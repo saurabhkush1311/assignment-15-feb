{
 "cells": [
  {
   "cell_type": "code",
   "execution_count": 1,
   "id": "b2fd1333-a91b-4db2-992a-5ce5cfed7bfc",
   "metadata": {},
   "outputs": [
    {
     "data": {
      "text/plain": [
       "'Multithreading in Python refers to the concurrent execution of multiple threads within the same process.\\n    By using multithreading, a Python program can create multiple threads, each handling a different I/O operation.\\n    The module which handle threads in python is known as Threading.'"
      ]
     },
     "execution_count": 1,
     "metadata": {},
     "output_type": "execute_result"
    }
   ],
   "source": [
    "#Question1:\n",
    "#Answer:\n",
    "\"\"\"Multithreading in Python refers to the concurrent execution of multiple threads within the same process.\n",
    "    By using multithreading, a Python program can create multiple threads, each handling a different I/O operation.\n",
    "    The module which handle threads in python is known as Threading.\"\"\""
   ]
  },
  {
   "cell_type": "code",
   "execution_count": 4,
   "id": "cbbe0521-4e05-4401-82c6-3bffdcc455d7",
   "metadata": {},
   "outputs": [
    {
     "data": {
      "text/plain": [
       "'Threading module handles the threads in python\\n   1. activeCount() : The activeCount() function is used to return the number of currently active Thread objects in the program. \\n   2. currentThread(): The currentThread() function is used to get the currently executing Thread object.\\n   3. enumerate(): The enumerate() function returns a list of all currently active Thread objects.'"
      ]
     },
     "execution_count": 4,
     "metadata": {},
     "output_type": "execute_result"
    }
   ],
   "source": [
    "#Question2:\n",
    "#Answer:\n",
    "\"\"\"Threading module handles the threads in python\n",
    "   1. activeCount() : The activeCount() function is used to return the number of currently active Thread objects in the program. \n",
    "   2. currentThread(): The currentThread() function is used to get the currently executing Thread object.\n",
    "   3. enumerate(): The enumerate() function returns a list of all currently active Thread objects.\"\"\""
   ]
  },
  {
   "cell_type": "code",
   "execution_count": 2,
   "id": "2e9de801-e410-4049-a9fc-2fb7bc9d9e4e",
   "metadata": {},
   "outputs": [
    {
     "name": "stdout",
     "output_type": "stream",
     "text": [
      "Thread is running.\n",
      "Thread is running.\n",
      "Thread is running.\n",
      "Thread is running.\n",
      "Thread is running.\n",
      "Number of active threads: 8\n",
      "All threads have completed.\n"
     ]
    },
    {
     "name": "stderr",
     "output_type": "stream",
     "text": [
      "/tmp/ipykernel_23857/1988238502.py:15: DeprecationWarning: activeCount() is deprecated, use active_count() instead\n",
      "  num_active_threads = threading.activeCount()\n"
     ]
    }
   ],
   "source": [
    "import threading\n",
    "\n",
    "def worker_function():\n",
    "    print(\"Thread is running.\")\n",
    "\n",
    "if __name__ == \"__main__\":\n",
    "    threads = []\n",
    "\n",
    "    for i in range(5):\n",
    "        thread = threading.Thread(target=worker_function)\n",
    "        thread.start()\n",
    "        threads.append(thread)\n",
    "\n",
    "    # Get the number of active threads\n",
    "    num_active_threads = threading.activeCount()\n",
    "    print(f\"Number of active threads: {num_active_threads}\")\n",
    "\n",
    "    # Wait for all threads to complete\n",
    "    for thread in threads:\n",
    "        thread.join()\n",
    "\n",
    "    print(\"All threads have completed.\")\n"
   ]
  },
  {
   "cell_type": "code",
   "execution_count": 3,
   "id": "c8ec7371-8d41-4399-a2ca-4df7199df422",
   "metadata": {},
   "outputs": [
    {
     "name": "stdout",
     "output_type": "stream",
     "text": [
      "Current thread: Thread-1\n",
      "Current thread: Thread-2\n",
      "Both threads have completed.\n"
     ]
    },
    {
     "name": "stderr",
     "output_type": "stream",
     "text": [
      "/tmp/ipykernel_23857/513667720.py:4: DeprecationWarning: currentThread() is deprecated, use current_thread() instead\n",
      "  current_thread = threading.currentThread()\n"
     ]
    }
   ],
   "source": [
    "import threading\n",
    "\n",
    "def print_thread_name():\n",
    "    current_thread = threading.currentThread()\n",
    "    print(f\"Current thread: {current_thread.name}\")\n",
    "\n",
    "if __name__ == \"__main__\":\n",
    "    thread1 = threading.Thread(target=print_thread_name, name=\"Thread-1\")\n",
    "    thread2 = threading.Thread(target=print_thread_name, name=\"Thread-2\")\n",
    "\n",
    "    thread1.start()\n",
    "    thread2.start()\n",
    "\n",
    "    thread1.join()\n",
    "    thread2.join()\n",
    "\n",
    "    print(\"Both threads have completed.\")\n"
   ]
  },
  {
   "cell_type": "code",
   "execution_count": 5,
   "id": "13184850-544f-4aa5-ab39-406f53628e42",
   "metadata": {},
   "outputs": [
    {
     "name": "stdout",
     "output_type": "stream",
     "text": [
      "All active threads: [<_MainThread(MainThread, started 140710712321856)>, <Thread(IOPub, started daemon 140710643480128)>, <Heartbeat(Heartbeat, started daemon 140710635087424)>, <Thread(Thread-3 (_watch_pipe_fd), started daemon 140710609909312)>, <Thread(Thread-4 (_watch_pipe_fd), started daemon 140710601516608)>, <ControlThread(Control, started daemon 140710593123904)>, <HistorySavingThread(IPythonHistorySavingThread, started 140710107936320)>, <ParentPollerUnix(Thread-2, started daemon 140710099543616)>, <Thread(Thread-10 (worker_function), started 140710091150912)>, <Thread(Thread-11 (worker_function), started 140710082758208)>, <Thread(Thread-12 (worker_function), started 140710074365504)>, <Thread(Thread-13 (worker_function), started 140710065972800)>, <Thread(Thread-14 (worker_function), started 140710057580096)>]\n",
      "Thread is running.\n",
      "Thread is running.\n",
      "Thread is running.\n",
      "Thread is running.\n",
      "Thread is running.\n",
      "All threads have completed.\n"
     ]
    }
   ],
   "source": [
    "import threading\n",
    "import time\n",
    "\n",
    "def worker_function():\n",
    "    time.sleep(1)\n",
    "    print(\"Thread is running.\")\n",
    "\n",
    "if __name__ == \"__main__\":\n",
    "    threads = []\n",
    "\n",
    "    for i in range(5):\n",
    "        thread = threading.Thread(target=worker_function)\n",
    "        thread.start()\n",
    "        threads.append(thread)\n",
    "\n",
    "    # Get a list of all active threads\n",
    "    all_threads = threading.enumerate()\n",
    "    print(f\"All active threads: {all_threads}\")\n",
    "\n",
    "    # Wait for all threads to complete\n",
    "    for thread in threads:\n",
    "        thread.join()\n",
    "\n",
    "    print(\"All threads have completed.\")\n"
   ]
  },
  {
   "cell_type": "code",
   "execution_count": 6,
   "id": "e64e0769-0101-4dea-b1c7-aebc7d47e2b2",
   "metadata": {},
   "outputs": [
    {
     "name": "stdout",
     "output_type": "stream",
     "text": [
      "Custom thread is running.\n",
      "Thread has completed.\n"
     ]
    }
   ],
   "source": [
    "#Question3:\n",
    "#Answer:\n",
    "#run method\n",
    "import threading\n",
    "\n",
    "class CustomThread(threading.Thread):\n",
    "    def run(self):\n",
    "        print(\"Custom thread is running.\")\n",
    "\n",
    "if __name__ == \"__main__\":\n",
    "    thread = CustomThread()\n",
    "    thread.start()\n",
    "    thread.join()\n",
    "    print(\"Thread has completed.\")\n"
   ]
  },
  {
   "cell_type": "code",
   "execution_count": 7,
   "id": "24bfff1f-e522-48fb-a385-1a610fdd9950",
   "metadata": {},
   "outputs": [
    {
     "name": "stdout",
     "output_type": "stream",
     "text": [
      "Thread is running.\n",
      "Thread has completed.\n"
     ]
    }
   ],
   "source": [
    "#start function\n",
    "import threading\n",
    "\n",
    "def worker_function():\n",
    "    print(\"Thread is running.\")\n",
    "\n",
    "if __name__ == \"__main__\":\n",
    "    thread = threading.Thread(target=worker_function)\n",
    "    thread.start()\n",
    "    thread.join()\n",
    "    print(\"Thread has completed.\")\n"
   ]
  },
  {
   "cell_type": "code",
   "execution_count": 8,
   "id": "55414922-d5d5-488b-9581-860922422f18",
   "metadata": {},
   "outputs": [
    {
     "name": "stdout",
     "output_type": "stream",
     "text": [
      "Thread is running.\n",
      "Thread has completed.\n"
     ]
    }
   ],
   "source": [
    "#join function\n",
    "import threading\n",
    "\n",
    "def worker_function():\n",
    "    print(\"Thread is running.\")\n",
    "\n",
    "if __name__ == \"__main__\":\n",
    "    thread = threading.Thread(target=worker_function)\n",
    "    thread.start()\n",
    "    thread.join()\n",
    "    print(\"Thread has completed.\")\n"
   ]
  },
  {
   "cell_type": "code",
   "execution_count": 11,
   "id": "ba8fa21e-a85b-41e5-94ff-63aedbd79207",
   "metadata": {},
   "outputs": [
    {
     "name": "stdout",
     "output_type": "stream",
     "text": [
      "Thread is still running...\n",
      "Thread is still running...\n",
      "Thread is running.\n",
      "Thread has completed.\n"
     ]
    }
   ],
   "source": [
    "#isAlive function\n",
    "import threading\n",
    "import time\n",
    "\n",
    "def worker_function():\n",
    "    time.sleep(2)\n",
    "    print(\"Thread is running.\")\n",
    "\n",
    "if __name__ == \"__main__\":\n",
    "    thread = threading.Thread(target=worker_function)\n",
    "    thread.start()\n",
    "\n",
    "    while thread.is_alive():\n",
    "        print(\"Thread is still running...\")\n",
    "        time.sleep(1)\n",
    "\n",
    "    print(\"Thread has completed.\")\n"
   ]
  },
  {
   "cell_type": "code",
   "execution_count": 18,
   "id": "a0d07dd6-c624-469a-a2b0-5b75309405ee",
   "metadata": {},
   "outputs": [
    {
     "name": "stdout",
     "output_type": "stream",
     "text": [
      "4\n",
      "9\n",
      "16\n",
      "25\n",
      "36\n",
      "49\n",
      "64\n",
      "81\n",
      "8\n",
      "27\n",
      "64\n",
      "125\n",
      "216\n",
      "343\n",
      "512\n",
      "729\n"
     ]
    }
   ],
   "source": [
    "#Question4:\n",
    "#Answer:\n",
    "import threading\n",
    "def square(number):\n",
    "    for n in number:\n",
    "        print(n**2)\n",
    "def cube(number):\n",
    "    for n in number:\n",
    "        print(n**3)\n",
    "\n",
    "if __name__ == '__main__':\n",
    "    number = [2,3,4,5,6,7,8,9]\n",
    "    thread1 = threading.Thread(target = square , args=(number,))\n",
    "    thread2 = threading.Thread(target = cube , args=(number,))\n",
    "    thread1.start()\n",
    "    thread2.start()\n",
    "    thread2.join()\n",
    "    thread2.join()\n",
    "    "
   ]
  },
  {
   "cell_type": "code",
   "execution_count": 19,
   "id": "a313c017-bc10-4952-a627-04a86519e21c",
   "metadata": {},
   "outputs": [
    {
     "data": {
      "text/plain": [
       "' 1.Complexity\\n    2.Thread Synchronization\\n    3. Deadlocks\\n    4. Overhead\\n    5.Complex Debugging'"
      ]
     },
     "execution_count": 19,
     "metadata": {},
     "output_type": "execute_result"
    }
   ],
   "source": [
    "#Question5:\n",
    "#Answer:\n",
    "#Advantages of multithreading:\n",
    "\"\"\" 1. Concurrency\n",
    "    2. Resource Efficiency\n",
    "    3. Shared Memory\n",
    "    4. Parallelism on Multi-Core Systems\n",
    "    5. Simplified Code\"\"\"\n",
    "\n",
    "#Disadvantages of multithreading\n",
    "\"\"\" 1.Complexity\n",
    "    2.Thread Synchronization\n",
    "    3. Deadlocks\n",
    "    4. Overhead\n",
    "    5.Complex Debugging\"\"\""
   ]
  },
  {
   "cell_type": "code",
   "execution_count": 20,
   "id": "00824c38-9172-4d02-b684-fed0f2829f24",
   "metadata": {},
   "outputs": [
    {
     "data": {
      "text/plain": [
       "\" Deadlocks: Deadlocks can occur when two or more threads are unable to proceed because each is waiting for the other to release a resource.\\n               Detecting and resolving deadlocks can be difficult.\\n    Race Conditions : Race conditions occur when two or more threads try to modify shared data concurrently, and the final outcome depends on the order in which the threads are scheduled to execute.\\n                      When the threads' execution order is unpredictable, the results of the operations can vary, leading to incorrect behavior or data corruption.\""
      ]
     },
     "execution_count": 20,
     "metadata": {},
     "output_type": "execute_result"
    }
   ],
   "source": [
    "#Question6:\n",
    "#Answer:\n",
    "\n",
    "\"\"\" Deadlocks: Deadlocks can occur when two or more threads are unable to proceed because each is waiting for the other to release a resource.\n",
    "               Detecting and resolving deadlocks can be difficult.\n",
    "    Race Conditions : Race conditions occur when two or more threads try to modify shared data concurrently, and the final outcome depends on the order in which the threads are scheduled to execute.\n",
    "                      When the threads' execution order is unpredictable, the results of the operations can vary, leading to incorrect behavior or data corruption.\"\"\""
   ]
  },
  {
   "cell_type": "code",
   "execution_count": null,
   "id": "f5d96f36-d833-4a69-a0bd-cda1d575671f",
   "metadata": {},
   "outputs": [],
   "source": []
  }
 ],
 "metadata": {
  "kernelspec": {
   "display_name": "Python 3 (ipykernel)",
   "language": "python",
   "name": "python3"
  },
  "language_info": {
   "codemirror_mode": {
    "name": "ipython",
    "version": 3
   },
   "file_extension": ".py",
   "mimetype": "text/x-python",
   "name": "python",
   "nbconvert_exporter": "python",
   "pygments_lexer": "ipython3",
   "version": "3.10.6"
  }
 },
 "nbformat": 4,
 "nbformat_minor": 5
}
